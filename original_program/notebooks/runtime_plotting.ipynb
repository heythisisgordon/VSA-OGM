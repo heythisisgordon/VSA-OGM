{
 "cells": [
  {
   "cell_type": "code",
   "execution_count": 2,
   "metadata": {},
   "outputs": [],
   "source": [
    "import matplotlib.pyplot as plt\n",
    "import numpy as np\n",
    "import os\n",
    "import pickle as pkl"
   ]
  },
  {
   "cell_type": "code",
   "execution_count": 3,
   "metadata": {},
   "outputs": [],
   "source": [
    "import matplotlib.pyplot as plt\n",
    "import os\n",
    "import pickle as pkl"
   ]
  },
  {
   "cell_type": "code",
   "execution_count": 4,
   "metadata": {},
   "outputs": [],
   "source": [
    "data_dir: str = \"/home/ssnyde9/dev/highfrost/highfrost/ogm/experiments/logs/build_vsa_map_toysim_agent2/observations/observation_364/runtimes/numpy_arrays\"\n",
    "pc_norm_timing: str = \"pc_normalization.npy\"\n",
    "qcc_timing: str = \"quadrant_center_calculation.npy\"\n",
    "encoding_timing: str = \"encoding.npy\""
   ]
  },
  {
   "cell_type": "code",
   "execution_count": 5,
   "metadata": {},
   "outputs": [],
   "source": [
    "pc_norm_timing_path = os.path.join(data_dir, pc_norm_timing)\n",
    "qcc_timing_path = os.path.join(data_dir, qcc_timing)\n",
    "encoding_timing_path = os.path.join(data_dir, encoding_timing)"
   ]
  },
  {
   "cell_type": "code",
   "execution_count": 6,
   "metadata": {},
   "outputs": [],
   "source": [
    "assert os.path.exists(pc_norm_timing_path)\n",
    "assert os.path.exists(qcc_timing_path)\n",
    "assert os.path.exists(encoding_timing_path)"
   ]
  },
  {
   "cell_type": "code",
   "execution_count": 7,
   "metadata": {},
   "outputs": [],
   "source": [
    "with open(pc_norm_timing_path, \"rb\") as f:\n",
    "    pc_norm_timing_data = np.load(f)\n",
    "\n",
    "with open(qcc_timing_path, \"rb\") as f:\n",
    "    qcc_timing_data = np.load(f)\n",
    "\n",
    "with open(encoding_timing_path, \"rb\") as f:\n",
    "    encoding_timing_data = np.load(f)"
   ]
  },
  {
   "cell_type": "code",
   "execution_count": 8,
   "metadata": {},
   "outputs": [],
   "source": [
    "timing = pc_norm_timing_data + qcc_timing_data + encoding_timing_data"
   ]
  },
  {
   "cell_type": "code",
   "execution_count": 9,
   "metadata": {},
   "outputs": [],
   "source": [
    "total = np.sum(timing)"
   ]
  },
  {
   "cell_type": "code",
   "execution_count": 10,
   "metadata": {},
   "outputs": [
    {
     "data": {
      "text/plain": [
       "4.631884336471558"
      ]
     },
     "execution_count": 10,
     "metadata": {},
     "output_type": "execute_result"
    }
   ],
   "source": [
    "total"
   ]
  },
  {
   "cell_type": "code",
   "execution_count": 11,
   "metadata": {},
   "outputs": [],
   "source": [
    "location_querying_path = \"/home/ssnyde9/dev/highfrost/highfrost/ogm/experiments/logs/build_vsa_map_toysim_agent2_fusion_v2/observations/observation_364/runtimes/numpy_arrays/occupancy_probability_calculation.npy\"\n",
    "data = np.load(location_querying_path)"
   ]
  },
  {
   "cell_type": "code",
   "execution_count": 13,
   "metadata": {},
   "outputs": [
    {
     "data": {
      "text/plain": [
       "0.0005071163177490234"
      ]
     },
     "execution_count": 13,
     "metadata": {},
     "output_type": "execute_result"
    }
   ],
   "source": [
    "data[1]"
   ]
  },
  {
   "cell_type": "code",
   "execution_count": null,
   "metadata": {},
   "outputs": [],
   "source": []
  }
 ],
 "metadata": {
  "kernelspec": {
   "display_name": "spl-venv",
   "language": "python",
   "name": "python3"
  },
  "language_info": {
   "codemirror_mode": {
    "name": "ipython",
    "version": 3
   },
   "file_extension": ".py",
   "mimetype": "text/x-python",
   "name": "python",
   "nbconvert_exporter": "python",
   "pygments_lexer": "ipython3",
   "version": "3.9.18"
  }
 },
 "nbformat": 4,
 "nbformat_minor": 2
}
